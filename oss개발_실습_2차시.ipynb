{
  "nbformat": 4,
  "nbformat_minor": 0,
  "metadata": {
    "colab": {
      "provenance": [],
      "authorship_tag": "ABX9TyPtbddY5PQaVEUBsFvt1f21",
      "include_colab_link": true
    },
    "kernelspec": {
      "name": "python3",
      "display_name": "Python 3"
    },
    "language_info": {
      "name": "python"
    }
  },
  "cells": [
    {
      "cell_type": "markdown",
      "metadata": {
        "id": "view-in-github",
        "colab_type": "text"
      },
      "source": [
        "<a href=\"https://colab.research.google.com/github/rqre23/oss2025/blob/main/oss%EA%B0%9C%EB%B0%9C_%EC%8B%A4%EC%8A%B5_2%EC%B0%A8%EC%8B%9C.ipynb\" target=\"_parent\"><img src=\"https://colab.research.google.com/assets/colab-badge.svg\" alt=\"Open In Colab\"/></a>"
      ]
    },
    {
      "cell_type": "code",
      "source": [],
      "metadata": {
        "id": "bYDTPOwKy4n7"
      },
      "execution_count": null,
      "outputs": []
    },
    {
      "cell_type": "code",
      "source": [
        "ㄹㅇㄴ"
      ],
      "metadata": {
        "id": "VYDwh2U-yylF"
      },
      "execution_count": null,
      "outputs": []
    },
    {
      "cell_type": "markdown",
      "source": [
        "# 사각형 판단 프로그램\n",
        "\n",
        "정사각형,직사각형  판단 프로그램입니다.\n"
      ],
      "metadata": {
        "id": "kKyFW2EZxjVt"
      }
    },
    {
      "cell_type": "code",
      "source": [
        "\n",
        "a= int(input(가로의 길이는?:))\n",
        "b = int(input(세로의 길이는?:))\n",
        "if(a==b){\n",
        "    print(\"정사각형 입니다.\")\n",
        "\n",
        "}\n",
        "else{\n",
        "    print(\"직사각형 입니다.\")\n",
        "}"
      ],
      "metadata": {
        "id": "4IsoQTC7wvyb"
      },
      "execution_count": null,
      "outputs": []
    },
    {
      "cell_type": "markdown",
      "source": [],
      "metadata": {
        "id": "DzKk-605wbW9"
      }
    }
  ]
}